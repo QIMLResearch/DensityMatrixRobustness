{
 "cells": [
  {
   "cell_type": "code",
   "execution_count": 6,
   "metadata": {},
   "outputs": [],
   "source": [
    "import os\n",
    "from pennylane import numpy as np\n",
    "import pandas as pd\n",
    "\n",
    "from utils.flow_windows import Flows\n",
    "from utils.probabilities import Probabilities"
   ]
  },
  {
   "cell_type": "code",
   "execution_count": 7,
   "metadata": {},
   "outputs": [],
   "source": [
    "RATE = 1  # in seconds"
   ]
  },
  {
   "cell_type": "code",
   "execution_count": null,
   "metadata": {},
   "outputs": [
    {
     "data": {
      "text/html": [
       "<div>\n",
       "<style scoped>\n",
       "    .dataframe tbody tr th:only-of-type {\n",
       "        vertical-align: middle;\n",
       "    }\n",
       "\n",
       "    .dataframe tbody tr th {\n",
       "        vertical-align: top;\n",
       "    }\n",
       "\n",
       "    .dataframe thead th {\n",
       "        text-align: right;\n",
       "    }\n",
       "</style>\n",
       "<table border=\"1\" class=\"dataframe\">\n",
       "  <thead>\n",
       "    <tr style=\"text-align: right;\">\n",
       "      <th></th>\n",
       "      <th>label</th>\n",
       "    </tr>\n",
       "  </thead>\n",
       "  <tbody>\n",
       "    <tr>\n",
       "      <th>0</th>\n",
       "      <td>0</td>\n",
       "    </tr>\n",
       "    <tr>\n",
       "      <th>1</th>\n",
       "      <td>0</td>\n",
       "    </tr>\n",
       "    <tr>\n",
       "      <th>2</th>\n",
       "      <td>0</td>\n",
       "    </tr>\n",
       "    <tr>\n",
       "      <th>3</th>\n",
       "      <td>0</td>\n",
       "    </tr>\n",
       "    <tr>\n",
       "      <th>4</th>\n",
       "      <td>0</td>\n",
       "    </tr>\n",
       "    <tr>\n",
       "      <th>...</th>\n",
       "      <td>...</td>\n",
       "    </tr>\n",
       "    <tr>\n",
       "      <th>764132</th>\n",
       "      <td>1</td>\n",
       "    </tr>\n",
       "    <tr>\n",
       "      <th>764133</th>\n",
       "      <td>1</td>\n",
       "    </tr>\n",
       "    <tr>\n",
       "      <th>764134</th>\n",
       "      <td>1</td>\n",
       "    </tr>\n",
       "    <tr>\n",
       "      <th>764135</th>\n",
       "      <td>1</td>\n",
       "    </tr>\n",
       "    <tr>\n",
       "      <th>764136</th>\n",
       "      <td>1</td>\n",
       "    </tr>\n",
       "  </tbody>\n",
       "</table>\n",
       "<p>764137 rows × 1 columns</p>\n",
       "</div>"
      ],
      "text/plain": [
       "        label\n",
       "0           0\n",
       "1           0\n",
       "2           0\n",
       "3           0\n",
       "4           0\n",
       "...       ...\n",
       "764132      1\n",
       "764133      1\n",
       "764134      1\n",
       "764135      1\n",
       "764136      1\n",
       "\n",
       "[764137 rows x 1 columns]"
      ]
     },
     "execution_count": 8,
     "metadata": {},
     "output_type": "execute_result"
    }
   ],
   "source": [
    "df_pcap_labels = pd.read_csv('datasets/mirai/mirai_labels.csv')\n",
    "df_pcap_labels.rename(columns={'0': 'label'}, inplace=True)\n",
    "df_pcap_labels = pd.concat([df_pcap_labels, pd.DataFrame([{'label': 1}])], ignore_index=True)\n",
    "\n",
    "df_pcap_labels"
   ]
  },
  {
   "cell_type": "code",
   "execution_count": 9,
   "metadata": {},
   "outputs": [],
   "source": [
    "def expand_hex_ip_columns(df, original_column, delim=\":\"):\n",
    "    \"\"\"expand into 1 column for each byte\"\"\"\n",
    "    if original_column not in df.columns:\n",
    "        print(\n",
    "            \"Failed expand_hex_ip_columns(): original_column not in df.columns. Returning input df.\"\n",
    "        )\n",
    "        return df\n",
    "\n",
    "    first_non_zero_value = df[original_column].iloc[(df[original_column] != 0).idxmax()]\n",
    "    num_hex_columns = len(first_non_zero_value.split(delim))\n",
    "    hex_columns = [original_column + \"_\" + str(i) for i in range(num_hex_columns)]\n",
    "\n",
    "    if delim == \":\":\n",
    "        df_split = df[original_column].str.split(\":\", expand=True).fillna(\"0\")\n",
    "        df[hex_columns] = df_split.map(lambda x: int(x if x != \"\" else \"0\", 16))\n",
    "        df[hex_columns] = df[hex_columns].astype(float)\n",
    "        df.drop(original_column, axis=1, inplace=True)\n",
    "    if delim == \".\":\n",
    "        df[hex_columns] = df[original_column].str.split(\".\", expand=True)\n",
    "        df[hex_columns] = df[hex_columns].astype(float)\n",
    "        df.drop(original_column, axis=1, inplace=True)\n",
    "\n",
    "    return df\n",
    "\n",
    "def one_hot_encoding(df, column):\n",
    "    df = pd.concat([df, pd.get_dummies(df[column], prefix=column)], axis=1)\n",
    "    df.drop(column, axis=1, inplace=True, errors='ignore')\n",
    "    return df"
   ]
  },
  {
   "cell_type": "markdown",
   "metadata": {},
   "source": [
    "# Raw Packets"
   ]
  },
  {
   "cell_type": "code",
   "execution_count": null,
   "metadata": {},
   "outputs": [],
   "source": [
    "df_raw = pd.read_csv(\"datasets/mirai/mirai_pcap.tsv\", sep=\"\\t\")\n",
    "df_raw = pd.concat([df_raw, df_pcap_labels], axis=1)\n",
    "\n",
    "df_raw = df_raw.drop(columns=[col for col in df_raw.columns if 'Unnamed' in col], errors='ignore')\n",
    "time_columns = [\"frame.time_epoch\", \"frame.date_time\", \"flow_window\"]\n",
    "probability_columns = [\"dm_prob\", \"dm_prob_softmax\"]\n",
    "\n",
    "other_columns = [\n",
    "    'ip.version', 'ip.src', 'ip.dst', 'ip.id', 'ipv6.src', 'ipv6.dst',\n",
    "    'arp.src.hw_mac', 'arp.src.proto_ipv4', 'arp.dst.hw_mac', 'arp.dst.proto_ipv4',\n",
    "    'eth.src', 'eth.dst'\n",
    "]\n",
    "non_feature_columns = time_columns + probability_columns + other_columns\n",
    "\n",
    "df_raw = df_raw.drop(columns=non_feature_columns, errors='ignore')\n",
    "\n",
    "df_raw = one_hot_encoding(df_raw, 'ip.proto')\n",
    "df_raw = one_hot_encoding(df_raw, 'ip.flags')\n",
    "df_raw = one_hot_encoding(df_raw, 'eth.type')\n",
    "df_raw = one_hot_encoding(df_raw, 'tcp.flags.str')\n",
    "df_raw = one_hot_encoding(df_raw, 'icmp.type')\n",
    "df_raw = one_hot_encoding(df_raw, 'icmp.code')\n",
    "df_raw = one_hot_encoding(df_raw, 'arp.opcode')\n",
    "\n",
    "df_raw.fillna(0, inplace=True)"
   ]
  },
  {
   "cell_type": "code",
   "execution_count": null,
   "metadata": {},
   "outputs": [],
   "source": [
    "df_raw.to_csv(f\"datasets/mirai/mirai_pcap_preprocessed.csv\", index=False)"
   ]
  },
  {
   "cell_type": "markdown",
   "metadata": {},
   "source": [
    "## Prep DM and Stats Data"
   ]
  },
  {
   "cell_type": "code",
   "execution_count": null,
   "metadata": {},
   "outputs": [],
   "source": [
    "df_stats_and_dm = pd.read_csv(\"datasets/mirai/mirai_pcap.tsv\", sep=\"\\t\")\n",
    "df_stats_and_dm = pd.concat([df_stats_and_dm, df_pcap_labels], axis=1)\n",
    "\n",
    "df_stats_and_dm = df_stats_and_dm.drop(columns=[col for col in df_stats_and_dm.columns if 'Unnamed' in col], errors='ignore')\n",
    "other_columns = [\n",
    "    'ip.version', 'ip.src', 'ip.dst', 'ip.id', 'ipv6.src', 'ipv6.dst',\n",
    "    'arp.src.hw_mac', 'arp.src.proto_ipv4', 'arp.dst.hw_mac', 'arp.dst.proto_ipv4',\n",
    "    'eth.src', 'eth.dst'\n",
    "] \n",
    "df_stats_and_dm = df_stats_and_dm.drop(columns=other_columns, errors='ignore')\n",
    "\n",
    "df_stats_and_dm = one_hot_encoding(df_stats_and_dm, 'ip.flags')\n",
    "df_stats_and_dm = one_hot_encoding(df_stats_and_dm, 'eth.type')\n",
    "df_stats_and_dm = one_hot_encoding(df_stats_and_dm, 'tcp.flags.str')\n",
    "df_stats_and_dm = one_hot_encoding(df_stats_and_dm, 'icmp.type')\n",
    "df_stats_and_dm = one_hot_encoding(df_stats_and_dm, 'icmp.code')\n",
    "df_stats_and_dm = one_hot_encoding(df_stats_and_dm, 'arp.opcode')\n",
    "\n",
    "df_stats_and_dm.fillna(0, inplace=True)"
   ]
  },
  {
   "cell_type": "code",
   "execution_count": null,
   "metadata": {},
   "outputs": [],
   "source": [
    "df_stats_and_dm.to_csv(f\"datasets/mirai/mirai_pcap_preprocessed_sdm.csv\", index=False)"
   ]
  }
 ],
 "metadata": {
  "kernelspec": {
   "display_name": "Python 3",
   "language": "python",
   "name": "python3"
  },
  "language_info": {
   "codemirror_mode": {
    "name": "ipython",
    "version": 3
   },
   "file_extension": ".py",
   "mimetype": "text/x-python",
   "name": "python",
   "nbconvert_exporter": "python",
   "pygments_lexer": "ipython3",
   "version": "3.11.6"
  }
 },
 "nbformat": 4,
 "nbformat_minor": 2
}
